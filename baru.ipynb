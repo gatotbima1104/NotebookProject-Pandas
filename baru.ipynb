{
 "cells": [
  {
   "cell_type": "code",
   "execution_count": 63,
   "id": "e6d15b4b",
   "metadata": {},
   "outputs": [
    {
     "name": "stdout",
     "output_type": "stream",
     "text": [
      "Nilai Akurasi : 0.8831653446460772\n"
     ]
    }
   ],
   "source": [
    "import pandas as pd\n",
    "from sklearn.tree import DecisionTreeClassifier                   #Using DecisionTree\n",
    "from sklearn.model_selection import train_test_split\n",
    "from sklearn.metrics import accuracy_score\n",
    "\n",
    "df = pd.read_csv('heart_2020_cleaned.csv')\n",
    "x = df.drop(columns=[\"HeartDisease\",\"Smoking\",\"AlcoholDrinking\",\"Stroke\",\"DiffWalking\",\n",
    "                \"Sex\",\"AgeCategory\",\"Race\",\"Diabetic\",\"PhysicalActivity\",\"GenHealth\",\"Asthma\",\n",
    "                \"KidneyDisease\",\"SkinCancer\"])\n",
    "y = df[\"HeartDisease\"]\n",
    "x_train, x_test, y_train, y_test = train_test_split(x, y, test_size = 0.3)  \n",
    "\n",
    "\n",
    "model = DecisionTreeClassifier()\n",
    "model.fit(x_train, y_train)   #Give the Machine Learning\n",
    "prediction = model.predict(x_test) \n",
    "\n",
    "score = accuracy_score(prediction, y_test)\n",
    "print('Nilai Akurasi :', score)"
   ]
  },
  {
   "cell_type": "code",
   "execution_count": 59,
   "id": "5c89a0d4",
   "metadata": {},
   "outputs": [],
   "source": [
    "import pandas as pd\n",
    "from sklearn.tree import DecisionTreeClassifier\n",
    "from sklearn import tree\n",
    "\n",
    "df = pd.read_csv('heart_2020_cleaned.csv')\n",
    "x = df.drop(columns=[\"HeartDisease\",\"Smoking\",\"AlcoholDrinking\",\"Stroke\",\"DiffWalking\",\n",
    "                \"Sex\",\"AgeCategory\",\"Race\",\"Diabetic\",\"PhysicalActivity\",\"GenHealth\",\"Asthma\",\n",
    "                \"KidneyDisease\",\"SkinCancer\"])\n",
    "y = df[\"HeartDisease\"]\n",
    "\n",
    "\n",
    "model = DecisionTreeClassifier()\n",
    "model.fit(x, y)\n",
    "\n",
    "tree.export_graphviz(model, out_file='Heart_disease_detector.dot', \n",
    "                    feature_names=['BMI', 'PhysicalHealth', 'MentalHealth', 'SleepTime'],\n",
    "                    class_names=sorted(y.unique()),\n",
    "                    label='all',\n",
    "                    rounded=True,\n",
    "                    filled=True)"
   ]
  },
  {
   "cell_type": "code",
   "execution_count": null,
   "id": "9b887b27",
   "metadata": {},
   "outputs": [],
   "source": []
  }
 ],
 "metadata": {
  "kernelspec": {
   "display_name": "Python 3 (ipykernel)",
   "language": "python",
   "name": "python3"
  },
  "language_info": {
   "codemirror_mode": {
    "name": "ipython",
    "version": 3
   },
   "file_extension": ".py",
   "mimetype": "text/x-python",
   "name": "python",
   "nbconvert_exporter": "python",
   "pygments_lexer": "ipython3",
   "version": "3.9.7"
  }
 },
 "nbformat": 4,
 "nbformat_minor": 5
}
