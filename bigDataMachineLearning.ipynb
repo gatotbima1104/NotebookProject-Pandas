{
 "cells": [
  {
   "cell_type": "code",
   "execution_count": 17,
   "id": "951bc3a4",
   "metadata": {},
   "outputs": [
    {
     "data": {
      "text/plain": [
       "0.6666666666666666"
      ]
     },
     "execution_count": 17,
     "metadata": {},
     "output_type": "execute_result"
    }
   ],
   "source": [
    "import pandas as pd\n",
    "from sklearn.tree import DecisionTreeClassifier                   #Using DecisionTree\n",
    "from sklearn.model_selection import train_test_split\n",
    "from sklearn.metrics import accuracy_score\n",
    "\n",
    "music_data = pd.read_csv('music.csv')\n",
    "x = music_data.drop(columns=['genre'])\n",
    "y = music_data['genre']\n",
    "x_train, x_test, y_train, y_test = train_test_split(x, y, test_size = 0.3)  ##0.1 is 10% dari size data yang ditest so 90% training\n",
    "\n",
    "\n",
    "model = DecisionTreeClassifier()\n",
    "model.fit(x_train, y_train)\n",
    "\n",
    "\n",
    "\n",
    "#Give the Machine Learning\n",
    "prediction = model.predict(x_test) \n",
    "\n",
    "score = accuracy_score(y_test, prediction)\n",
    "score"
   ]
  },
  {
   "cell_type": "code",
   "execution_count": 50,
   "id": "ca2eb2e2",
   "metadata": {},
   "outputs": [],
   "source": [
    "music_data = pd.read_csv('music.csv')\n",
    "x = music_data.drop(columns=['genre'])\n",
    "y = music_data['genre']\n",
    "x_train, x_test, y_train, y_test = train_test_split(x, y, test_size = 0.3)  ##0.1 is 10% dari size data yang ditest so 90% training"
   ]
  },
  {
   "cell_type": "code",
   "execution_count": 90,
   "id": "98ef3d1b",
   "metadata": {
    "scrolled": true
   },
   "outputs": [
    {
     "data": {
      "text/plain": [
       "1.0"
      ]
     },
     "execution_count": 90,
     "metadata": {},
     "output_type": "execute_result"
    }
   ],
   "source": [
    "model = DecisionTreeClassifier()\n",
    "model.fit(x_train, y_train)   #Give the Machine Learning\n",
    "prediction = model.predict(x_test) \n",
    "\n",
    "score = accuracy_score(y_test, prediction)\n",
    "score"
   ]
  },
  {
   "cell_type": "code",
   "execution_count": null,
   "id": "1314a975",
   "metadata": {},
   "outputs": [],
   "source": [
    "# import pandas as pd\n",
    "# from sklearn.tree import DecisionTreeClassifier\n",
    "# from sklearn.model_selection import train_test_split     Import the lIbraries\n",
    "# from sklearn.metrics import accuracy_score\n",
    "\n",
    "# music_data = pd.read_csv('music.csv')                    Read the dataset\n",
    "# x = music_data.drop(columns=['genre'])                   Create the variabel input\n",
    "# y = music_data['genre']                                  Create the variabel Output\n",
    "# x_train, x_test, y_train, y_test = train_test_split(x, y, test_size = 0.3)  ##0.1 is 10% dari size data yang ditest so 90% training\n",
    "\n",
    "\n",
    "# model = DecisionTreeClassifier()                         Create the model\n",
    "# model.fit(x_train, y_train)                              Train the machine\n",
    "\n",
    "\n",
    "# prediction = model.predict(x_test)                       Make Prediction\n",
    "   \n",
    "score = accuracy_score(y_test, prediction)\n",
    "score"
   ]
  },
  {
   "cell_type": "code",
   "execution_count": 2,
   "id": "ee79410a",
   "metadata": {},
   "outputs": [
    {
     "name": "stderr",
     "output_type": "stream",
     "text": [
      "C:\\Users\\Muhamad\\miniconda3\\lib\\site-packages\\sklearn\\base.py:450: UserWarning: X does not have valid feature names, but DecisionTreeClassifier was fitted with feature names\n",
      "  warnings.warn(\n"
     ]
    },
    {
     "data": {
      "text/plain": [
       "array(['Acoustic'], dtype=object)"
      ]
     },
     "execution_count": 2,
     "metadata": {},
     "output_type": "execute_result"
    }
   ],
   "source": [
    "import pandas as pd\n",
    "from sklearn.tree import DecisionTreeClassifier      \n",
    "import joblib\n",
    "\n",
    "\n",
    "music_data = pd.read_csv('music.csv')\n",
    "x = music_data.drop(columns=['genre'])            #Number 1\n",
    "y = music_data['genre']\n",
    "\n",
    "model = DecisionTreeClassifier()\n",
    "model.fit(x, y)   #Give the Machine Learning\n",
    "\n",
    "# joblib.dump(model, 'music-recommendation.joblib') #for saving the prediction to file\n",
    "#joblib.load('music-recommendation.joblib')          #for load the data from file without number 1\n",
    "\n",
    "prediction = model.predict([ [29, 0] ]) \n",
    "prediction"
   ]
  },
  {
   "cell_type": "code",
   "execution_count": 18,
   "id": "d2473baf",
   "metadata": {},
   "outputs": [],
   "source": [
    "import pandas as pd\n",
    "from sklearn.tree import DecisionTreeClassifier\n",
    "from sklearn import tree\n",
    "\n",
    "music_data = pd.read_csv('music.csv')\n",
    "x = music_data.drop(columns=['genre'])\n",
    "y = music_data['genre']\n",
    "\n",
    "\n",
    "model = DecisionTreeClassifier()\n",
    "model.fit(x, y)\n",
    "\n",
    "tree.export_graphviz(model, out_file='music-recomendation.dot', \n",
    "                    feature_names=['age', 'gender'],\n",
    "                    class_names=sorted(y.unique()),\n",
    "                    label='all',\n",
    "                    rounded=True,\n",
    "                    filled=True)\n"
   ]
  }
 ],
 "metadata": {
  "kernelspec": {
   "display_name": "Python 3 (ipykernel)",
   "language": "python",
   "name": "python3"
  },
  "language_info": {
   "codemirror_mode": {
    "name": "ipython",
    "version": 3
   },
   "file_extension": ".py",
   "mimetype": "text/x-python",
   "name": "python",
   "nbconvert_exporter": "python",
   "pygments_lexer": "ipython3",
   "version": "3.9.7"
  }
 },
 "nbformat": 4,
 "nbformat_minor": 5
}
